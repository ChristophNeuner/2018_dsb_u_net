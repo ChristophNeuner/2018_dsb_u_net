{
 "cells": [
  {
   "cell_type": "code",
   "execution_count": 1,
   "metadata": {
    "scrolled": false
   },
   "outputs": [
    {
     "name": "stderr",
     "output_type": "stream",
     "text": [
      "/opt/conda/lib/python3.5/site-packages/h5py/__init__.py:36: FutureWarning: Conversion of the second argument of issubdtype from `float` to `np.floating` is deprecated. In future, it will be treated as `np.float64 == np.dtype(float).type`.\n",
      "  from ._conv import register_converters as _register_converters\n",
      "Using TensorFlow backend.\n"
     ]
    },
    {
     "name": "stdout",
     "output_type": "stream",
     "text": [
      "Getting and resizing train images and masks ... \n"
     ]
    },
    {
     "name": "stderr",
     "output_type": "stream",
     "text": [
      "  8%|▊         | 50/665 [00:09<02:02,  5.02it/s]/opt/conda/lib/python3.5/site-packages/tqdm/_monitor.py:89: TqdmSynchronisationWarning: Set changed size during iteration (see https://github.com/tqdm/tqdm/issues/481)\n",
      "  TqdmSynchronisationWarning)\n",
      " 73%|███████▎  | 486/665 [01:50<00:40,  4.41it/s]"
     ]
    },
    {
     "name": "stdout",
     "output_type": "stream",
     "text": [
      ".ipynb_checkpoints\n"
     ]
    },
    {
     "name": "stderr",
     "output_type": "stream",
     "text": [
      "100%|██████████| 665/665 [02:29<00:00,  4.45it/s]"
     ]
    },
    {
     "name": "stdout",
     "output_type": "stream",
     "text": [
      "Getting and resizing test images ... \n"
     ]
    },
    {
     "name": "stderr",
     "output_type": "stream",
     "text": [
      "\n",
      " 41%|████      | 1243/3021 [00:30<00:43, 41.11it/s]"
     ]
    },
    {
     "name": "stdout",
     "output_type": "stream",
     "text": [
      "__pycache__\n"
     ]
    },
    {
     "name": "stderr",
     "output_type": "stream",
     "text": [
      " 69%|██████▉   | 2087/3021 [00:50<00:22, 40.99it/s]"
     ]
    },
    {
     "name": "stdout",
     "output_type": "stream",
     "text": [
      ".ipynb_checkpoints\n"
     ]
    },
    {
     "name": "stderr",
     "output_type": "stream",
     "text": [
      "100%|██████████| 3021/3021 [01:12<00:00, 41.56it/s]"
     ]
    },
    {
     "name": "stdout",
     "output_type": "stream",
     "text": [
      "Done!\n"
     ]
    },
    {
     "name": "stderr",
     "output_type": "stream",
     "text": [
      "\n"
     ]
    }
   ],
   "source": [
    "import cv2\n",
    "import os\n",
    "import random\n",
    "%matplotlib inline\n",
    "from matplotlib import pyplot as plt\n",
    "import utils\n",
    "import skimage\n",
    "\n",
    "\"\"\"\n",
    "path = '../Mask_RCNN-master/stage1_train_fixed/'\n",
    "ids = next(os.walk(path))[1]\n",
    "i = 0\n",
    "while i < len(ids):\n",
    "    _id = ids[i]\n",
    "    image_name = _id + \".png\"\n",
    "    img_path = os.path.join(path, _id , \"images\", image_name)\n",
    "    imgCv2 = cv2.imread(img_path)\n",
    "    imgSk = skimage.io.imread(img_path)\n",
    "    plt.imshow(imgCv2)\n",
    "    print(imgCv2.shape)\n",
    "    print(\"cv2\")\n",
    "    plt.show()\n",
    "    plt.imshow(imgSk)\n",
    "    print(\"skimage\")\n",
    "    plt.show()\n",
    "    sCv2 = utils.scale_img_channels(imgCv2, img.shape[2])\n",
    "    sSk = utils.scale_img_channels(imgSk, img.shape[2])\n",
    "    plt.imshow(sCv2)\n",
    "    print(\"cv2\")\n",
    "    plt.show()\n",
    "    plt.imshow(sSk)\n",
    "    print(\"skimage\")\n",
    "    plt.show()\n",
    "    i+=10\n",
    "\"\"\"\n",
    "\n",
    "\n",
    "\n",
    "# Set some parameters\n",
    "IMG_WIDTH = 256\n",
    "IMG_HEIGHT = 256\n",
    "IMG_CHANNELS = 3\n",
    "TRAIN_PATH = '../Mask_RCNN-master/stage1_train_fixed/'\n",
    "#TEST_PATH = '../Mask_RCNN-master/stage1_test/'\n",
    "TEST_PATH = '../Mask_RCNN-master/stage2_test_final/'\n",
    "\n",
    "# Root directory of the project\n",
    "ROOT_DIR = os.getcwd()\n",
    "# Directory to save logs and trained model\n",
    "MODEL_DIR = os.path.join(ROOT_DIR, \"logs\")\n",
    "\n",
    "   \n",
    "train_ids, test_ids, X_train, Y_train, X_test, sizes_test = utils.get_data(TRAIN_PATH, TEST_PATH, IMG_HEIGHT, IMG_WIDTH, IMG_CHANNELS)"
   ]
  },
  {
   "cell_type": "code",
   "execution_count": null,
   "metadata": {},
   "outputs": [],
   "source": []
  }
 ],
 "metadata": {
  "kernelspec": {
   "display_name": "Python 3",
   "language": "python",
   "name": "python3"
  },
  "language_info": {
   "codemirror_mode": {
    "name": "ipython",
    "version": 3
   },
   "file_extension": ".py",
   "mimetype": "text/x-python",
   "name": "python",
   "nbconvert_exporter": "python",
   "pygments_lexer": "ipython3",
   "version": "3.5.4"
  }
 },
 "nbformat": 4,
 "nbformat_minor": 2
}
